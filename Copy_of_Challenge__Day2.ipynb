{
  "nbformat": 4,
  "nbformat_minor": 0,
  "metadata": {
    "colab": {
      "name": "Copy of Challenge_ Day2.ipynb",
      "provenance": [],
      "collapsed_sections": [],
      "include_colab_link": true
    },
    "kernelspec": {
      "name": "python3",
      "display_name": "Python 3"
    },
    "language_info": {
      "name": "python"
    }
  },
  "cells": [
    {
      "cell_type": "markdown",
      "metadata": {
        "id": "view-in-github",
        "colab_type": "text"
      },
      "source": [
        "<a href=\"https://colab.research.google.com/github/sabaagizew/Twitter-Data-Analysis/blob/main/Copy_of_Challenge__Day2.ipynb\" target=\"_parent\"><img src=\"https://colab.research.google.com/assets/colab-badge.svg\" alt=\"Open In Colab\"/></a>"
      ]
    },
    {
      "cell_type": "markdown",
      "metadata": {
        "id": "zDwep1K8Erxl"
      },
      "source": [
        "**Project:** Data Minining Project for  X company"
      ]
    },
    {
      "cell_type": "code",
      "metadata": {
        "id": "Mjw6TicfpK3W"
      },
      "source": [
        ""
      ],
      "execution_count": null,
      "outputs": []
    },
    {
      "cell_type": "code",
      "metadata": {
        "id": "JzIu-UWIDXHw"
      },
      "source": [
        ""
      ],
      "execution_count": null,
      "outputs": []
    },
    {
      "cell_type": "markdown",
      "metadata": {
        "id": "d7-ii3uyI8KY"
      },
      "source": [
        "The CRISP-DM Framework\n",
        "\n",
        "\n",
        "The CRISP-DM methodology provides a structured approach to planning a data mining project. It is a robust and well-proven methodology.\n",
        "* Business understanding (BU): Determine Business Objectives, Assess Situation, Determine Data Mining Goals, Produce Project Plan\n",
        "\n",
        "* Data understanding (DU): Collect Initial Data, Describe Data, Explore Data, Verify Data Quality\n",
        "\n",
        "* Data preparation (DP): Select Data, Clean Data, Construct Data, Integrate Data\n",
        "\n",
        "* Modeling (M): Select modeling technique, Generate Test Design, Build Model, Assess Model\n",
        "*  Evaluation (E): Evaluate Results, Review Process, Determine Next Steps\n",
        "*  Deployment (D): Plan Deployment, Plan Monitoring and Maintenance, Produce Final Report, Review Project\n",
        "\n",
        "\n",
        "References:\n",
        "\n",
        "[What is the CRISP-DM methodology?](https://www.sv-europe.com/crisp-dm-methodology/)\n",
        "\n",
        "[Introduction to CRISP DM Framework for Data Science and Machine Learning](https://www.linkedin.com/pulse/chapter-1-introduction-crisp-dm-framework-data-science-anshul-roy/)"
      ]
    },
    {
      "cell_type": "markdown",
      "metadata": {
        "id": "5lo7Ml7tMQOf"
      },
      "source": [
        "**Data Set**\n",
        "### The data is for company X which is trying to control attrition. \n",
        "### There are two sets of data: \"Existing employees\" and \"Employees who have left\". The following attributes are available for every employee.\n",
        "\n",
        "\n",
        "*   Satisfaction Level\n",
        "\n",
        "*   Last evaluation\n",
        "\n",
        "*   Number of projects\n",
        "\n",
        "*   Average monthly hours\n",
        "\n",
        "*   Time spent at the company\n",
        "*   Whether they have had a work accident\n",
        "\n",
        "\n",
        "*  Whether they have had a promotion in the last 5 years\n",
        "\n",
        "\n",
        "*   Departments (column sales)\n",
        "\n",
        "\n",
        "*   Salary\n",
        "\n",
        "\n",
        "*  Whether the employee has left\n",
        "\n",
        "\n",
        "\n",
        "\n",
        "\n",
        "\n",
        "\n",
        "\n",
        "\n",
        "\n",
        "\n",
        "\n",
        "\n",
        "\n",
        "\n",
        "\n"
      ]
    },
    {
      "cell_type": "markdown",
      "metadata": {
        "id": "sjSj2A2sSph_"
      },
      "source": [
        "**Your Role**\n",
        " \n",
        "\n",
        "*   As data science team member X company asked you to answer this two questions.\n",
        "*  What type of employees is leaving? \n",
        "\n",
        "*   Determine which employees are prone to leave next.\n",
        "\n",
        "\n",
        "\n",
        "\n"
      ]
    },
    {
      "cell_type": "markdown",
      "metadata": {
        "id": "ajdEVA7LiBUp"
      },
      "source": [
        "Business Understanding\n",
        "\n",
        "---\n",
        "\n",
        "This step mostly focuses on understanding the Business in all the different aspects. It follows the below different steps.\n",
        "\n",
        "\n",
        "\n",
        "\n",
        "* Identify the goal and frame the business problem.\n",
        "* Prepare Analytical Goal i.e. what type of performance metric and loss function to use\n",
        "* Gather information on resource, constraints, assumptions, risks etc\n",
        "* Gather information on resource, constraints, assumptions, risks etc\n",
        "*   Prepare Work Flow Chart"
      ]
    },
    {
      "cell_type": "markdown",
      "metadata": {
        "id": "J4MwiCYzj2_u"
      },
      "source": [
        "### Write the main objectives of this project in your words?\n",
        "minimum of 100 characters"
      ]
    },
    {
      "cell_type": "code",
      "metadata": {
        "id": "STyLda45j1Mf"
      },
      "source": [
        "main_objectives ='''The main objective of our project is to know the main reason for employees for leaving.\n",
        "And find the same reason for the other remain emlpoyees about to leave.\n",
        "Finding the most frequent reason from the given attributes.\n",
        "'''"
      ],
      "execution_count": null,
      "outputs": []
    },
    {
      "cell_type": "code",
      "metadata": {
        "id": "CuOlxLxKMOLI"
      },
      "source": [
        "assert len(main_objectives) > 100 \n",
        "### BEGIN HIDDEN TESTS\n",
        "assert len(main_objectives) > 80 \n",
        "### END HIDDEN TESTS"
      ],
      "execution_count": null,
      "outputs": []
    },
    {
      "cell_type": "markdown",
      "metadata": {
        "id": "NyXeNxlCkbaw"
      },
      "source": [
        "### Outline the different data analysis steps you will follow to carry out the project"
      ]
    },
    {
      "cell_type": "code",
      "metadata": {
        "id": "rC-tl8sUksQq"
      },
      "source": [
        "dm_outline = '''Step 1: Find out the factors which contribute for an employee to leave the job.\n",
        "\n",
        "     Step 2:Data pre- processing:-Gathering data:i used scraping techniques to collect data.\n",
        "           The data collected from the internet is stored in a Jason Forma and convert to the commonly used \"train.csv\"format.\n",
        "          -Assessing the data:The data determine number of rows and columns presnt in the data set.\n",
        "           -Data cleaning:It is the process of detecting and correcting missing,or inaccurate records from a data set.\n",
        "     \n",
        "     Step 3:Data Analysis:By using data analysis tools and software understanding,\n",
        "           interpeting and deliver conclusions based on the requirements.\n",
        "\n",
        "     Step 4:Conclusion:we can see over through our data analysis whether it answered our orginal question.\n",
        "            -Any limitation in my analysis which would affect my conculsions.\n",
        "            -Was the analysis sufficient enough to help decision making.\n",
        "     Step 5:Results:It is a time to communicate my finding to the mass employing data storytelling,writing blogs,\n",
        "            make presentations or filing reports.\n",
        "                                 \n",
        "'''"
      ],
      "execution_count": null,
      "outputs": []
    },
    {
      "cell_type": "code",
      "metadata": {
        "id": "-K1mWuDoksTk"
      },
      "source": [
        "assert len(dm_outline) > 100 \n",
        "### BEGIN HIDDEN TESTS\n",
        "assert len(dm_outline) > 70 \n",
        "### END HIDDEN TESTS"
      ],
      "execution_count": null,
      "outputs": []
    },
    {
      "cell_type": "markdown",
      "metadata": {
        "id": "pmUDFG1wkzUy"
      },
      "source": [
        "### What metrics will you use to measure the performance of your data analysis model? \n",
        "Write the equations of the metrics here"
      ]
    },
    {
      "cell_type": "markdown",
      "metadata": {
        "id": "KCNulojKk_BP"
      },
      "source": [
        "e.g. Precision = $\\frac{TP}{(TP + FP)}$\n",
        "\n"
      ]
    },
    {
      "cell_type": "markdown",
      "metadata": {
        "id": "vLS2YHoRk_EK"
      },
      "source": [
        "Why do you choose these metrics? minimum of 100 characters"
      ]
    },
    {
      "cell_type": "code",
      "metadata": {
        "id": "LSynT14KlPSJ"
      },
      "source": [
        "why_metrics = '''Metrics set the parameters for the data our organization will use to measure performances.\n",
        "It helps to analyze our data.\n",
        "'''"
      ],
      "execution_count": null,
      "outputs": []
    },
    {
      "cell_type": "code",
      "metadata": {
        "id": "yr-Mk0E8lPVJ"
      },
      "source": [
        "assert len(why_metrics) > 100 \n",
        "### BEGIN HIDDEN TESTS\n",
        "assert len(why_metrics) > 80 \n",
        "### END HIDDEN TESTS"
      ],
      "execution_count": null,
      "outputs": []
    },
    {
      "cell_type": "markdown",
      "metadata": {
        "id": "aAo19Ip6lUtm"
      },
      "source": [
        "### How would you know if your data analysis work is a success or not?\n",
        "minimum of 100 characters"
      ]
    },
    {
      "cell_type": "code",
      "metadata": {
        "id": "HESsiXW5llX-"
      },
      "source": [
        "how_success = '''1.By checking web traffic in real-time reports in insights report.\n",
        "2.Avoid dupplicate tracking codes with site health by click on passed tests and check tracking code is properly being built.\n",
        "3.By view the source code of my site and look for my tracking code.\n",
        "'''"
      ],
      "execution_count": null,
      "outputs": []
    },
    {
      "cell_type": "code",
      "metadata": {
        "id": "FdUoiMIOlmXq"
      },
      "source": [
        "assert len(how_success) > 100 \n",
        "### BEGIN HIDDEN TESTS\n",
        "assert len(how_success) > 80 \n",
        "### END HIDDEN TESTS"
      ],
      "execution_count": null,
      "outputs": []
    },
    {
      "cell_type": "markdown",
      "metadata": {
        "id": "DQE6dqo6l1TZ"
      },
      "source": [
        "## What kind of challenges do you expect in your analysis?\n",
        "List at least 3 challenges"
      ]
    },
    {
      "cell_type": "code",
      "metadata": {
        "id": "WrAhBQhQl8Lh"
      },
      "source": [
        "challenge_text = '''1.The employees may not fully analyzed data or focus on the measures.\n",
        "2.If an employee has to manually sift through data it can be impossible to gain real_time insights on what is currently happening.\n",
        "3.The data may not visually presented because it taking time to pull information from multiple areas.\n",
        "'''"
      ],
      "execution_count": null,
      "outputs": []
    },
    {
      "cell_type": "code",
      "metadata": {
        "id": "EedHa-Pll8X7"
      },
      "source": [
        "assert len(challenge_text) > 100 \n",
        "### BEGIN HIDDEN TESTS\n",
        "assert len(how_success) > 80 \n",
        "### END HIDDEN TESTS"
      ],
      "execution_count": null,
      "outputs": []
    },
    {
      "cell_type": "markdown",
      "metadata": {
        "id": "ZcJ8M6uWDeSE"
      },
      "source": [
        "<h2>Using the processed twitter data from yesterday's challenge</h2>.\n",
        "\n",
        "\n",
        "- Form a new data frame (named `cleanTweet`), containing columns $\\textbf{clean-text}$ and $\\textbf{polarity}$.\n",
        "\n",
        "- Write a function `text_category` that takes a value `p` and returns, depending on the value of p, a string `'positive'`, `'negative'` or `'neutral'`.\n",
        "\n",
        "- Apply this function (`text_category`) on the $\\textbf{polarity}$ column of `cleanTweet` in 1 above to form a new column called $\\textbf{score}$ in `cleanTweet`.\n",
        "\n",
        "- Visualize The $\\textbf{score}$ column using piechart and barchart\n",
        "\n",
        "<h5>Now we want to build a classification model on the clean tweet following the steps below:</h5>\n",
        "\n",
        "* Remove rows from `cleanTweet` where $\\textbf{polarity}$ $= 0$ (i.e where $\\textbf{score}$ = Neutral) and reset the frame index.\n",
        "* Construct a column $\\textbf{scoremap}$ Use the mapping {'positive':1, 'negative':0} on the $\\textbf{score}$ column\n",
        "* Create feature and target variables `(X,y)` from $\\textbf{clean-text}$ and $\\textbf{scoremap}$ columns respectively.\n",
        "* Use `train_test_split` function to construct `(X_train, y_train)` and `(X_test, y_test)` from `(X,y)`\n",
        "\n",
        "* Build an `SGDClassifier` model from the vectorize train text data. Use `CountVectorizer()` with a $\\textit{trigram}$ parameter.\n",
        "\n",
        "* Evaluate your model on the test data.\n"
      ]
    },
    {
      "cell_type": "code",
      "metadata": {
        "id": "85WxmGNGDcBY",
        "colab": {
          "base_uri": "https://localhost:8080/"
        },
        "outputId": "e20f49fa-b403-4546-cf9f-19ab1c1f6ae3"
      },
      "source": [
        "import pandas as pd\n",
        "import matplotlib.pyplot as plt\n",
        "from sklearn.model_selection import train_test_split\n",
        "\n",
        "from sklearn.linear_model import SGDClassifier\n",
        "from sklearn.feature_extraction.text import CountVectorizer\n",
        "from sklearn.metrics import accuracy_score\n",
        "from sklearn. metrics import classification_report\n",
        "from sklearn.metrics import confusion_matrix\n",
        "from sklearn.pipeline import Pipeline\n",
        "from sklearn.feature_extraction.text import TfidfTransformer\n",
        "\n",
        "def text_catagory(p):\n",
        "    if p > 0:\n",
        "        return 'positive'\n",
        "    elif p < 0:\n",
        "        return 'negative'\n",
        "    else:\n",
        "        return 'neutral'\n",
        "    \n",
        "df = pd.read_csv('https://raw.githubusercontent.com/behigu/Challenge_-Day2/main/output.csv')\n",
        "\n",
        "# see polarity\n",
        "df['polarity']\n"
      ],
      "execution_count": null,
      "outputs": [
        {
          "output_type": "execute_result",
          "data": {
            "text/plain": [
              "0       0.166667\n",
              "1       0.133333\n",
              "2       0.316667\n",
              "3       0.086111\n",
              "4       0.280000\n",
              "          ...   \n",
              "6527    0.000000\n",
              "6528    0.086111\n",
              "6529    0.281250\n",
              "6530    0.125000\n",
              "6531    0.000000\n",
              "Name: polarity, Length: 6532, dtype: float64"
            ]
          },
          "metadata": {
            "tags": []
          },
          "execution_count": 4
        }
      ]
    },
    {
      "cell_type": "code",
      "metadata": {
        "colab": {
          "base_uri": "https://localhost:8080/",
          "height": 477
        },
        "id": "UMtO3Du12mGD",
        "outputId": "762534a7-6cb4-49c1-d22b-997a1e63c578"
      },
      "source": [
        "#Getting and reading the data\n",
        "\n",
        "df = pd.read_csv('https://raw.githubusercontent.com/behigu/Challenge_-Day2/main/output.csv')\n",
        "df.head()"
      ],
      "execution_count": null,
      "outputs": [
        {
          "output_type": "execute_result",
          "data": {
            "text/html": [
              "<div>\n",
              "<style scoped>\n",
              "    .dataframe tbody tr th:only-of-type {\n",
              "        vertical-align: middle;\n",
              "    }\n",
              "\n",
              "    .dataframe tbody tr th {\n",
              "        vertical-align: top;\n",
              "    }\n",
              "\n",
              "    .dataframe thead th {\n",
              "        text-align: right;\n",
              "    }\n",
              "</style>\n",
              "<table border=\"1\" class=\"dataframe\">\n",
              "  <thead>\n",
              "    <tr style=\"text-align: right;\">\n",
              "      <th></th>\n",
              "      <th>Unnamed: 0</th>\n",
              "      <th>created_at</th>\n",
              "      <th>source</th>\n",
              "      <th>original_text</th>\n",
              "      <th>polarity</th>\n",
              "      <th>subjectivity</th>\n",
              "      <th>lang</th>\n",
              "      <th>favorite_count</th>\n",
              "      <th>retweet_count</th>\n",
              "      <th>original_author</th>\n",
              "      <th>followers_count</th>\n",
              "      <th>friends_count</th>\n",
              "      <th>possibly_sensitive</th>\n",
              "      <th>hashtags</th>\n",
              "      <th>user_mentions</th>\n",
              "      <th>place</th>\n",
              "    </tr>\n",
              "  </thead>\n",
              "  <tbody>\n",
              "    <tr>\n",
              "      <th>0</th>\n",
              "      <td>0</td>\n",
              "      <td>Fri Jun 18 17:55:49 +0000 2021</td>\n",
              "      <td>&lt;a href=\"http://twitter.com/download/iphone\" r...</td>\n",
              "      <td>🚨Africa is \"in the midst of a full-blown third...</td>\n",
              "      <td>0.166667</td>\n",
              "      <td>0.188889</td>\n",
              "      <td>en</td>\n",
              "      <td>548</td>\n",
              "      <td>612</td>\n",
              "      <td>ketuesriche</td>\n",
              "      <td>551</td>\n",
              "      <td>351</td>\n",
              "      <td>None</td>\n",
              "      <td>NaN</td>\n",
              "      <td>TelGlobalHealth\\nWHOAFRO</td>\n",
              "      <td>Mass</td>\n",
              "    </tr>\n",
              "    <tr>\n",
              "      <th>1</th>\n",
              "      <td>1</td>\n",
              "      <td>Fri Jun 18 17:55:59 +0000 2021</td>\n",
              "      <td>&lt;a href=\"https://mobile.twitter.com\" rel=\"nofo...</td>\n",
              "      <td>Dr Moeti is head of WHO in Africa, and one of ...</td>\n",
              "      <td>0.133333</td>\n",
              "      <td>0.455556</td>\n",
              "      <td>en</td>\n",
              "      <td>195</td>\n",
              "      <td>92</td>\n",
              "      <td>Grid1949</td>\n",
              "      <td>66</td>\n",
              "      <td>92</td>\n",
              "      <td>None</td>\n",
              "      <td>NaN</td>\n",
              "      <td>globalhlthtwit</td>\n",
              "      <td>Edinburgh, Scotland</td>\n",
              "    </tr>\n",
              "    <tr>\n",
              "      <th>2</th>\n",
              "      <td>2</td>\n",
              "      <td>Fri Jun 18 17:56:07 +0000 2021</td>\n",
              "      <td>&lt;a href=\"http://twitter.com/download/iphone\" r...</td>\n",
              "      <td>Thank you @research2note for creating this ama...</td>\n",
              "      <td>0.316667</td>\n",
              "      <td>0.483333</td>\n",
              "      <td>en</td>\n",
              "      <td>2</td>\n",
              "      <td>1</td>\n",
              "      <td>LeeTomlinson8</td>\n",
              "      <td>1195</td>\n",
              "      <td>1176</td>\n",
              "      <td>None</td>\n",
              "      <td>red4research</td>\n",
              "      <td>NHSRDForum\\nResearch2note\\nNHSRDForum</td>\n",
              "      <td>NaN</td>\n",
              "    </tr>\n",
              "    <tr>\n",
              "      <th>3</th>\n",
              "      <td>3</td>\n",
              "      <td>Fri Jun 18 17:56:10 +0000 2021</td>\n",
              "      <td>&lt;a href=\"https://mobile.twitter.com\" rel=\"nofo...</td>\n",
              "      <td>Former Pfizer VP and Virologist, Dr. Michael Y...</td>\n",
              "      <td>0.086111</td>\n",
              "      <td>0.197222</td>\n",
              "      <td>en</td>\n",
              "      <td>1580</td>\n",
              "      <td>899</td>\n",
              "      <td>RIPNY08</td>\n",
              "      <td>2666</td>\n",
              "      <td>2704</td>\n",
              "      <td>None</td>\n",
              "      <td>NaN</td>\n",
              "      <td>HighWireTalk</td>\n",
              "      <td>NaN</td>\n",
              "    </tr>\n",
              "    <tr>\n",
              "      <th>4</th>\n",
              "      <td>4</td>\n",
              "      <td>Fri Jun 18 17:56:20 +0000 2021</td>\n",
              "      <td>&lt;a href=\"http://twitter.com/download/android\" ...</td>\n",
              "      <td>I think it’s important that we don’t sell COVA...</td>\n",
              "      <td>0.280000</td>\n",
              "      <td>0.620000</td>\n",
              "      <td>en</td>\n",
              "      <td>72</td>\n",
              "      <td>20</td>\n",
              "      <td>pash22</td>\n",
              "      <td>28250</td>\n",
              "      <td>30819</td>\n",
              "      <td>None</td>\n",
              "      <td>NaN</td>\n",
              "      <td>PeterHotez</td>\n",
              "      <td>United Kingdom</td>\n",
              "    </tr>\n",
              "  </tbody>\n",
              "</table>\n",
              "</div>"
            ],
            "text/plain": [
              "   Unnamed: 0  ...                place\n",
              "0           0  ...                 Mass\n",
              "1           1  ...  Edinburgh, Scotland\n",
              "2           2  ...                  NaN\n",
              "3           3  ...                  NaN\n",
              "4           4  ...       United Kingdom\n",
              "\n",
              "[5 rows x 16 columns]"
            ]
          },
          "metadata": {
            "tags": []
          },
          "execution_count": 2
        }
      ]
    },
    {
      "cell_type": "code",
      "metadata": {
        "id": "3sJxVNvZOOoX",
        "colab": {
          "base_uri": "https://localhost:8080/",
          "height": 198
        },
        "outputId": "dc02ceaf-395b-4486-f44d-691c38e5e812"
      },
      "source": [
        "cleanTweet = df[['original_text', 'polarity']].rename({'original_text': 'clean_text'}, axis=1)\n",
        "cleanTweet.head()"
      ],
      "execution_count": null,
      "outputs": [
        {
          "output_type": "execute_result",
          "data": {
            "text/html": [
              "<div>\n",
              "<style scoped>\n",
              "    .dataframe tbody tr th:only-of-type {\n",
              "        vertical-align: middle;\n",
              "    }\n",
              "\n",
              "    .dataframe tbody tr th {\n",
              "        vertical-align: top;\n",
              "    }\n",
              "\n",
              "    .dataframe thead th {\n",
              "        text-align: right;\n",
              "    }\n",
              "</style>\n",
              "<table border=\"1\" class=\"dataframe\">\n",
              "  <thead>\n",
              "    <tr style=\"text-align: right;\">\n",
              "      <th></th>\n",
              "      <th>clean_text</th>\n",
              "      <th>polarity</th>\n",
              "    </tr>\n",
              "  </thead>\n",
              "  <tbody>\n",
              "    <tr>\n",
              "      <th>0</th>\n",
              "      <td>🚨Africa is \"in the midst of a full-blown third...</td>\n",
              "      <td>0.166667</td>\n",
              "    </tr>\n",
              "    <tr>\n",
              "      <th>1</th>\n",
              "      <td>Dr Moeti is head of WHO in Africa, and one of ...</td>\n",
              "      <td>0.133333</td>\n",
              "    </tr>\n",
              "    <tr>\n",
              "      <th>2</th>\n",
              "      <td>Thank you @research2note for creating this ama...</td>\n",
              "      <td>0.316667</td>\n",
              "    </tr>\n",
              "    <tr>\n",
              "      <th>3</th>\n",
              "      <td>Former Pfizer VP and Virologist, Dr. Michael Y...</td>\n",
              "      <td>0.086111</td>\n",
              "    </tr>\n",
              "    <tr>\n",
              "      <th>4</th>\n",
              "      <td>I think it’s important that we don’t sell COVA...</td>\n",
              "      <td>0.280000</td>\n",
              "    </tr>\n",
              "  </tbody>\n",
              "</table>\n",
              "</div>"
            ],
            "text/plain": [
              "                                          clean_text  polarity\n",
              "0  🚨Africa is \"in the midst of a full-blown third...  0.166667\n",
              "1  Dr Moeti is head of WHO in Africa, and one of ...  0.133333\n",
              "2  Thank you @research2note for creating this ama...  0.316667\n",
              "3  Former Pfizer VP and Virologist, Dr. Michael Y...  0.086111\n",
              "4  I think it’s important that we don’t sell COVA...  0.280000"
            ]
          },
          "metadata": {
            "tags": []
          },
          "execution_count": 3
        }
      ]
    },
    {
      "cell_type": "code",
      "metadata": {
        "id": "R2h5CEdFbATR",
        "colab": {
          "base_uri": "https://localhost:8080/",
          "height": 198
        },
        "outputId": "964f8296-c9e8-414e-d667-b0bffd0493ce"
      },
      "source": [
        "#cleanTweet['score'] = cleanTweet[\"polarity\"].map(text_catagory)\n",
        "cleanTweet.head()"
      ],
      "execution_count": null,
      "outputs": [
        {
          "output_type": "execute_result",
          "data": {
            "text/html": [
              "<div>\n",
              "<style scoped>\n",
              "    .dataframe tbody tr th:only-of-type {\n",
              "        vertical-align: middle;\n",
              "    }\n",
              "\n",
              "    .dataframe tbody tr th {\n",
              "        vertical-align: top;\n",
              "    }\n",
              "\n",
              "    .dataframe thead th {\n",
              "        text-align: right;\n",
              "    }\n",
              "</style>\n",
              "<table border=\"1\" class=\"dataframe\">\n",
              "  <thead>\n",
              "    <tr style=\"text-align: right;\">\n",
              "      <th></th>\n",
              "      <th>clean_text</th>\n",
              "      <th>polarity</th>\n",
              "    </tr>\n",
              "  </thead>\n",
              "  <tbody>\n",
              "    <tr>\n",
              "      <th>0</th>\n",
              "      <td>🚨Africa is \"in the midst of a full-blown third...</td>\n",
              "      <td>0.166667</td>\n",
              "    </tr>\n",
              "    <tr>\n",
              "      <th>1</th>\n",
              "      <td>Dr Moeti is head of WHO in Africa, and one of ...</td>\n",
              "      <td>0.133333</td>\n",
              "    </tr>\n",
              "    <tr>\n",
              "      <th>2</th>\n",
              "      <td>Thank you @research2note for creating this ama...</td>\n",
              "      <td>0.316667</td>\n",
              "    </tr>\n",
              "    <tr>\n",
              "      <th>3</th>\n",
              "      <td>Former Pfizer VP and Virologist, Dr. Michael Y...</td>\n",
              "      <td>0.086111</td>\n",
              "    </tr>\n",
              "    <tr>\n",
              "      <th>4</th>\n",
              "      <td>I think it’s important that we don’t sell COVA...</td>\n",
              "      <td>0.280000</td>\n",
              "    </tr>\n",
              "  </tbody>\n",
              "</table>\n",
              "</div>"
            ],
            "text/plain": [
              "                                          clean_text  polarity\n",
              "0  🚨Africa is \"in the midst of a full-blown third...  0.166667\n",
              "1  Dr Moeti is head of WHO in Africa, and one of ...  0.133333\n",
              "2  Thank you @research2note for creating this ama...  0.316667\n",
              "3  Former Pfizer VP and Virologist, Dr. Michael Y...  0.086111\n",
              "4  I think it’s important that we don’t sell COVA...  0.280000"
            ]
          },
          "metadata": {
            "tags": []
          },
          "execution_count": 8
        }
      ]
    },
    {
      "cell_type": "code",
      "metadata": {
        "id": "At3Q4BAgkoRn"
      },
      "source": [
        "#converting to float\n",
        "cleanTweet['polarity'] = cleanTweet['polarity'].astype(float)"
      ],
      "execution_count": null,
      "outputs": []
    },
    {
      "cell_type": "code",
      "metadata": {
        "id": "aHdvJQWxkwBQ"
      },
      "source": [
        "#creating score column\n",
        "cleanTweet['score'] = cleanTweet['polarity']"
      ],
      "execution_count": null,
      "outputs": []
    },
    {
      "cell_type": "code",
      "metadata": {
        "id": "e07kI_T8kyTx"
      },
      "source": [
        "#locating values\n",
        "negative = cleanTweet[cleanTweet['score'] < 0].index\n",
        "neutral = cleanTweet[cleanTweet['score'] == 0].index\n",
        "positive = cleanTweet[cleanTweet['score'] > 0].index"
      ],
      "execution_count": null,
      "outputs": []
    },
    {
      "cell_type": "code",
      "metadata": {
        "id": "a-pyujSYk4rp"
      },
      "source": [
        "#coding the values\n",
        "cleanTweet.loc[negative, 'score'] = 'negative'\n",
        "cleanTweet.loc[neutral, 'score'] = 'neutral'\n",
        "cleanTweet.loc[positive, 'score'] = 'positive'"
      ],
      "execution_count": null,
      "outputs": []
    },
    {
      "cell_type": "code",
      "metadata": {
        "colab": {
          "base_uri": "https://localhost:8080/",
          "height": 383
        },
        "id": "a3POYm_TlKSR",
        "outputId": "ea39db26-44c2-445a-8e92-b01e8d013079"
      },
      "source": [
        "#Bar chart\n",
        "colors = ['yellow', 'brown','blue']\n",
        "\n",
        "plt.figure(figsize=(5,5))\n",
        "cleanTweet['score'].value_counts().plot(kind='bar', rot = 60, color= colors)\n",
        "plt.title('Polarity scores')\n",
        "plt.xlabel('scores')\n",
        "plt.ylabel('count');"
      ],
      "execution_count": null,
      "outputs": [
        {
          "output_type": "display_data",
          "data": {
            "image/png": "[encoded data removed]",
            "text/plain": [
              "<Figure size 360x360 with 1 Axes>"
            ]
          },
          "metadata": {
            "tags": [],
            "needs_background": "light"
          }
        }
      ]
    },
    {
      "cell_type": "code",
      "metadata": {
        "colab": {
          "base_uri": "https://localhost:8080/",
          "height": 264
        },
        "id": "N7eTrM4ZloPB",
        "outputId": "4f40924b-e955-4ab2-946e-523971bcb3ce"
      },
      "source": [
        "#pie chart\n",
        "labels = ['positive', 'neutral','negative']\n",
        "cleanTweet['score'].value_counts().plot(kind='pie',labels=labels, colors = colors)\n",
        "plt.title('Polarity scores');"
      ],
      "execution_count": null,
      "outputs": [
        {
          "output_type": "display_data",
          "data": {
            "image/png": "[encoded data removed]",
            "text/plain": [
              "<Figure size 432x288 with 1 Axes>"
            ]
          },
          "metadata": {
            "tags": []
          }
        }
      ]
    },
    {
      "cell_type": "code",
      "metadata": {
        "colab": {
          "base_uri": "https://localhost:8080/",
          "height": 198
        },
        "id": "Hy5jrHNJlrdH",
        "outputId": "6a59a032-5303-4ed5-840e-d7a98079e27c"
      },
      "source": [
        "# Remove rows from cleanTweet where  𝐩𝐨𝐥𝐚𝐫𝐢𝐭𝐲   =0  (𝐬𝐜𝐨𝐫𝐞  = Neutral)\n",
        "cleanTweet = cleanTweet[cleanTweet['polarity'] != 0]\n",
        "\n",
        "# reset the frame index.\n",
        "cleanTweet.reset_index(drop=True, inplace=True)\n",
        "cleanTweet.head()"
      ],
      "execution_count": null,
      "outputs": [
        {
          "output_type": "execute_result",
          "data": {
            "text/html": [
              "<div>\n",
              "<style scoped>\n",
              "    .dataframe tbody tr th:only-of-type {\n",
              "        vertical-align: middle;\n",
              "    }\n",
              "\n",
              "    .dataframe tbody tr th {\n",
              "        vertical-align: top;\n",
              "    }\n",
              "\n",
              "    .dataframe thead th {\n",
              "        text-align: right;\n",
              "    }\n",
              "</style>\n",
              "<table border=\"1\" class=\"dataframe\">\n",
              "  <thead>\n",
              "    <tr style=\"text-align: right;\">\n",
              "      <th></th>\n",
              "      <th>clean_text</th>\n",
              "      <th>polarity</th>\n",
              "      <th>score</th>\n",
              "    </tr>\n",
              "  </thead>\n",
              "  <tbody>\n",
              "    <tr>\n",
              "      <th>0</th>\n",
              "      <td>🚨Africa is \"in the midst of a full-blown third...</td>\n",
              "      <td>0.166667</td>\n",
              "      <td>positive</td>\n",
              "    </tr>\n",
              "    <tr>\n",
              "      <th>1</th>\n",
              "      <td>Dr Moeti is head of WHO in Africa, and one of ...</td>\n",
              "      <td>0.133333</td>\n",
              "      <td>positive</td>\n",
              "    </tr>\n",
              "    <tr>\n",
              "      <th>2</th>\n",
              "      <td>Thank you @research2note for creating this ama...</td>\n",
              "      <td>0.316667</td>\n",
              "      <td>positive</td>\n",
              "    </tr>\n",
              "    <tr>\n",
              "      <th>3</th>\n",
              "      <td>Former Pfizer VP and Virologist, Dr. Michael Y...</td>\n",
              "      <td>0.086111</td>\n",
              "      <td>positive</td>\n",
              "    </tr>\n",
              "    <tr>\n",
              "      <th>4</th>\n",
              "      <td>I think it’s important that we don’t sell COVA...</td>\n",
              "      <td>0.280000</td>\n",
              "      <td>positive</td>\n",
              "    </tr>\n",
              "  </tbody>\n",
              "</table>\n",
              "</div>"
            ],
            "text/plain": [
              "                                          clean_text  polarity     score\n",
              "0  🚨Africa is \"in the midst of a full-blown third...  0.166667  positive\n",
              "1  Dr Moeti is head of WHO in Africa, and one of ...  0.133333  positive\n",
              "2  Thank you @research2note for creating this ama...  0.316667  positive\n",
              "3  Former Pfizer VP and Virologist, Dr. Michael Y...  0.086111  positive\n",
              "4  I think it’s important that we don’t sell COVA...  0.280000  positive"
            ]
          },
          "metadata": {
            "tags": []
          },
          "execution_count": 17
        }
      ]
    },
    {
      "cell_type": "code",
      "metadata": {
        "colab": {
          "base_uri": "https://localhost:8080/",
          "height": 307
        },
        "id": "of74YeRVnG3H",
        "outputId": "9b1f742d-9f79-40b9-d95e-9b5aea4295ae"
      },
      "source": [
        "# Construct a column  𝐬𝐜𝐨𝐫𝐞𝐦𝐚𝐩  Use the mapping {'positive':1, 'negative':0} on the  𝐬𝐜𝐨𝐫𝐞  column\n",
        "def get_score(value):\n",
        "    return 1 if (value == 'positive') else 0\n",
        "\n",
        "cleanTweet['scoremap'] = cleanTweet['score'].map(get_score)\n",
        "cleanTweet.head()"
      ],
      "execution_count": null,
      "outputs": [
        {
          "output_type": "stream",
          "text": [
            "/usr/local/lib/python3.7/dist-packages/ipykernel_launcher.py:5: SettingWithCopyWarning: \n",
            "A value is trying to be set on a copy of a slice from a DataFrame.\n",
            "Try using .loc[row_indexer,col_indexer] = value instead\n",
            "\n",
            "See the caveats in the documentation: https://pandas.pydata.org/pandas-docs/stable/user_guide/indexing.html#returning-a-view-versus-a-copy\n",
            "  \"\"\"\n"
          ],
          "name": "stderr"
        },
        {
          "output_type": "execute_result",
          "data": {
            "text/html": [
              "<div>\n",
              "<style scoped>\n",
              "    .dataframe tbody tr th:only-of-type {\n",
              "        vertical-align: middle;\n",
              "    }\n",
              "\n",
              "    .dataframe tbody tr th {\n",
              "        vertical-align: top;\n",
              "    }\n",
              "\n",
              "    .dataframe thead th {\n",
              "        text-align: right;\n",
              "    }\n",
              "</style>\n",
              "<table border=\"1\" class=\"dataframe\">\n",
              "  <thead>\n",
              "    <tr style=\"text-align: right;\">\n",
              "      <th></th>\n",
              "      <th>clean_text</th>\n",
              "      <th>polarity</th>\n",
              "      <th>score</th>\n",
              "      <th>scoremap</th>\n",
              "    </tr>\n",
              "  </thead>\n",
              "  <tbody>\n",
              "    <tr>\n",
              "      <th>0</th>\n",
              "      <td>🚨Africa is \"in the midst of a full-blown third...</td>\n",
              "      <td>0.166667</td>\n",
              "      <td>positive</td>\n",
              "      <td>1</td>\n",
              "    </tr>\n",
              "    <tr>\n",
              "      <th>1</th>\n",
              "      <td>Dr Moeti is head of WHO in Africa, and one of ...</td>\n",
              "      <td>0.133333</td>\n",
              "      <td>positive</td>\n",
              "      <td>1</td>\n",
              "    </tr>\n",
              "    <tr>\n",
              "      <th>2</th>\n",
              "      <td>Thank you @research2note for creating this ama...</td>\n",
              "      <td>0.316667</td>\n",
              "      <td>positive</td>\n",
              "      <td>1</td>\n",
              "    </tr>\n",
              "    <tr>\n",
              "      <th>3</th>\n",
              "      <td>Former Pfizer VP and Virologist, Dr. Michael Y...</td>\n",
              "      <td>0.086111</td>\n",
              "      <td>positive</td>\n",
              "      <td>1</td>\n",
              "    </tr>\n",
              "    <tr>\n",
              "      <th>4</th>\n",
              "      <td>I think it’s important that we don’t sell COVA...</td>\n",
              "      <td>0.280000</td>\n",
              "      <td>positive</td>\n",
              "      <td>1</td>\n",
              "    </tr>\n",
              "  </tbody>\n",
              "</table>\n",
              "</div>"
            ],
            "text/plain": [
              "                                          clean_text  ...  scoremap\n",
              "0  🚨Africa is \"in the midst of a full-blown third...  ...         1\n",
              "1  Dr Moeti is head of WHO in Africa, and one of ...  ...         1\n",
              "2  Thank you @research2note for creating this ama...  ...         1\n",
              "3  Former Pfizer VP and Virologist, Dr. Michael Y...  ...         1\n",
              "4  I think it’s important that we don’t sell COVA...  ...         1\n",
              "\n",
              "[5 rows x 4 columns]"
            ]
          },
          "metadata": {
            "tags": []
          },
          "execution_count": 18
        }
      ]
    },
    {
      "cell_type": "code",
      "metadata": {
        "id": "hDG2rpa_nTLD"
      },
      "source": [
        "# Create feature and target variables (X,y) from  𝐜𝐥𝐞𝐚𝐧-𝐭𝐞𝐱𝐭  and  𝐬𝐜𝐨𝐫𝐞𝐦𝐚𝐩  columns respectively.\n",
        "X = cleanTweet['clean_text']\n",
        "y = cleanTweet['scoremap']"
      ],
      "execution_count": null,
      "outputs": []
    },
    {
      "cell_type": "code",
      "metadata": {
        "id": "8pEk22jrnbZp"
      },
      "source": [
        "# Use train_test_split function to construct (X_train, y_train) and (X_test, y_test) from (X,y)\n",
        "# splitting data into training and validation set\n",
        "x_train, x_test, y_train, y_test = train_test_split(X, y)"
      ],
      "execution_count": null,
      "outputs": []
    },
    {
      "cell_type": "code",
      "metadata": {
        "colab": {
          "base_uri": "https://localhost:8080/"
        },
        "id": "THVlyLWUos4u",
        "outputId": "3e176e9d-ff94-40b3-f391-c460b5ff00cd"
      },
      "source": [
        "# Build an SGDClassifier model from the vectorize train text data. Use CountVectorizer() with a  trigram  parameter.\n",
        "# pipeline = Pipeline([\n",
        "#     ('vector',  CountVectorizer(analyzer='word', ngram_range=(3,3))),\n",
        "#     ('tfitf', TfidfTransformer()),\n",
        "#     ('clf', SGDClassifier(max_iter=1000))\n",
        "# ])\n",
        "# X_train_count = pipeline.fit(x_train, y_train)\n",
        "# can't run this for y_train\n",
        "# y_predection = X_train_count.predict(x_test)\n",
        "cv = CountVectorizer(ngram_range=(3, 3))\n",
        "X_train_cv = cv.fit_transform(x_train)\n",
        "X_test_cv = cv.transform(x_test)\n",
        "X_train_cv"
      ],
      "execution_count": null,
      "outputs": [
        {
          "output_type": "execute_result",
          "data": {
            "text/plain": [
              "<3527x22207 sparse matrix of type '<class 'numpy.int64'>'\n",
              "\twith 115387 stored elements in Compressed Sparse Row format>"
            ]
          },
          "metadata": {
            "tags": []
          },
          "execution_count": 22
        }
      ]
    },
    {
      "cell_type": "code",
      "metadata": {
        "colab": {
          "base_uri": "https://localhost:8080/"
        },
        "id": "oV62GFgto2fV",
        "outputId": "23652eeb-a085-493b-acd9-b8b62714d195"
      },
      "source": [
        "# Evaluate your model on the test data.\n",
        "clf = SGDClassifier()\n",
        "clf.fit(X_train_cv, y_train)\n",
        "predictions = clf.predict(X_test_cv)\n",
        "\n",
        "results = confusion_matrix(y_test, predictions) \n",
        "results"
      ],
      "execution_count": null,
      "outputs": [
        {
          "output_type": "execute_result",
          "data": {
            "text/plain": [
              "array([[284,  52],\n",
              "       [  3, 837]])"
            ]
          },
          "metadata": {
            "tags": []
          },
          "execution_count": 23
        }
      ]
    },
    {
      "cell_type": "code",
      "metadata": {
        "colab": {
          "base_uri": "https://localhost:8080/"
        },
        "id": "msxpc3UHo94p",
        "outputId": "62ea2c98-a98a-4e47-fb74-41be28240b77"
      },
      "source": [
        "# accuracy\n",
        "accuracy_score(y_test, predictions)"
      ],
      "execution_count": null,
      "outputs": [
        {
          "output_type": "execute_result",
          "data": {
            "text/plain": [
              "0.9532312925170068"
            ]
          },
          "metadata": {
            "tags": []
          },
          "execution_count": 24
        }
      ]
    },
    {
      "cell_type": "code",
      "metadata": {
        "id": "GMH9tapYpL2C",
        "colab": {
          "base_uri": "https://localhost:8080/"
        },
        "outputId": "960f4c62-da66-4c27-dc24-948c9e184619"
      },
      "source": [
        "# Classification report\n",
        "print(classification_report(y_test, predictions))"
      ],
      "execution_count": null,
      "outputs": [
        {
          "output_type": "stream",
          "text": [
            "              precision    recall  f1-score   support\n",
            "\n",
            "           0       0.99      0.85      0.91       336\n",
            "           1       0.94      1.00      0.97       840\n",
            "\n",
            "    accuracy                           0.95      1176\n",
            "   macro avg       0.97      0.92      0.94      1176\n",
            "weighted avg       0.96      0.95      0.95      1176\n",
            "\n"
          ],
          "name": "stdout"
        }
      ]
    }
  ]
}