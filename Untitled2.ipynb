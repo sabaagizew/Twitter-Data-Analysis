{
  "nbformat": 4,
  "nbformat_minor": 0,
  "metadata": {
    "colab": {
      "name": "Untitled2.ipynb",
      "provenance": [],
      "authorship_tag": "ABX9TyOjvpG2I6VdTq59lS6PvUCf",
      "include_colab_link": true
    },
    "kernelspec": {
      "name": "python3",
      "display_name": "Python 3"
    },
    "language_info": {
      "name": "python"
    }
  },
  "cells": [
    {
      "cell_type": "markdown",
      "metadata": {
        "id": "view-in-github",
        "colab_type": "text"
      },
      "source": [
        "<a href=\"https://colab.research.google.com/github/sabaagizew/Twitter-Data-Analysis/blob/main/Untitled2.ipynb\" target=\"_parent\"><img src=\"https://colab.research.google.com/assets/colab-badge.svg\" alt=\"Open In Colab\"/></a>"
      ]
    },
    {
      "cell_type": "code",
      "metadata": {
        "id": "TjqCq90y0EeT"
      },
      "source": [
        "Task 3 - Data Science Level 1\n",
        "\n",
        "Data exploration & Pre-processing\n",
        "\n",
        "The pre-processing of the text data is an essential step as it makes the raw text ready for mining,\n",
        " i.e., it becomes easier to extract information from the text and apply machine learning algorithms to it.\n",
        "The data collected from the internet is stored in a Jason Forma and convert to the commonly used (“train.csv\") format.\n",
        " #Getting and reading the data: df = pd.read_csv(‘.csv') df.head()\n",
        "\n",
        "The main objectives\n",
        "\n",
        "The main objective of this project is to identify the main reasons for employees leaving their job.\n",
        " Identifying the reasons for employees quitting their job can help the employer improve the working condition \n",
        " of the existing employees and minimize huge turnover from the organization. \n",
        "\n",
        "The data analysis steps \n",
        "\n",
        "Step 1: Find out the factors which contribute for an employee to leave the job.\n",
        "Step 2: Data pre- processing:-Gathering data; I used scraping techniques to collect data.\n",
        " The data collected from the internet is stored in a Jason Forma and convert to the commonly used \"train.csv\"format.\n",
        "  Assessing the data: to determine number of rows and columns present in the data set. \n",
        "  Data cleaning: It is the process of detecting and correcting missing, or inaccurate records from a data set.\n",
        "Step 3: Data Analysis: By using data analysis tools and software understanding, interpreting \n",
        "and deliver conclusions based on the requirements.\n",
        "Step 4: Conclusion: we can see over through our data analysis whether it answered our original question.\n",
        "            -Any limitation in my analysis which would affect my conclusions.\n",
        "            -Was the analysis sufficient enough to help decision making.\n",
        " Step 5: Results: It is a time to communicate my finding to the mass employing data storytelling,\n",
        "  writing blogs, make presentations or filing reports.\n",
        "\n",
        "Metrics\n",
        "\n",
        "To measure the performance of your data analysis model Metrics set the parameters for the data\n",
        " our organization will use to measure performances. It helps to analyse our data.\n",
        "\n",
        "How success \n",
        "\n",
        "1. By checking web traffic in real-time reports in insights report.\n",
        "2. Avoid duplicate tracking codes with site health by click on passed tests and check tracking code is properly being built.\n",
        "3. By view the source code of my site and look for my tracking code.\n",
        "\n",
        "Challenges\n",
        "\n",
        "1. The employees may not fully analysed data or focus on the measures.\n",
        "2. If an employee has to manually sift through data it can be impossible to gain real_time insights on what is currently happening.\n",
        "3. The data may not visually presented because it taking time to pull information from multiple areas.\n"
      ],
      "execution_count": null,
      "outputs": []
    }
  ]
}